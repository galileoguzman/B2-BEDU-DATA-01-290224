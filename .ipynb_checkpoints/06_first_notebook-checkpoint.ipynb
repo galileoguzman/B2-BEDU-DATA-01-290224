{
 "cells": [
  {
   "cell_type": "code",
   "execution_count": null,
   "id": "65820d76-0728-4b85-9ec1-3bd192dfe311",
   "metadata": {},
   "outputs": [],
   "source": [
    "import requests\n",
    "\n",
    "response = requests.get('https://bedu.org/')\n",
    "\n",
    "response.content"
   ]
  }
 ],
 "metadata": {
  "kernelspec": {
   "display_name": "Python 3 (ipykernel)",
   "language": "python",
   "name": "python3"
  },
  "language_info": {
   "codemirror_mode": {
    "name": "ipython",
    "version": 3
   },
   "file_extension": ".py",
   "mimetype": "text/x-python",
   "name": "python",
   "nbconvert_exporter": "python",
   "pygments_lexer": "ipython3",
   "version": "3.10.5"
  }
 },
 "nbformat": 4,
 "nbformat_minor": 5
}
